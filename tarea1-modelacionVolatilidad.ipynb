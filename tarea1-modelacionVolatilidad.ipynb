{
 "cells": [
  {
   "cell_type": "markdown",
   "metadata": {},
   "source": [
    "Escribir el siguiente comando en la terminal para instalar las librerías necesarias: \n",
    "\n",
    "*pip install -r requirements.txt*"
   ]
  },
  {
   "cell_type": "code",
   "execution_count": 4,
   "metadata": {},
   "outputs": [],
   "source": [
    "# pip install -r requirements.txt"
   ]
  },
  {
   "cell_type": "code",
   "execution_count": 2,
   "metadata": {},
   "outputs": [],
   "source": [
    "import pandas as pd\n",
    "import numpy as np\n",
    "import matplotlib.pyplot as plt\n",
    "import yfinance as yf"
   ]
  },
  {
   "cell_type": "code",
   "execution_count": 3,
   "metadata": {},
   "outputs": [
    {
     "name": "stderr",
     "output_type": "stream",
     "text": [
      "[*********************100%%**********************]  1 of 1 completed\n"
     ]
    },
    {
     "data": {
      "text/html": [
       "<div>\n",
       "<style scoped>\n",
       "    .dataframe tbody tr th:only-of-type {\n",
       "        vertical-align: middle;\n",
       "    }\n",
       "\n",
       "    .dataframe tbody tr th {\n",
       "        vertical-align: top;\n",
       "    }\n",
       "\n",
       "    .dataframe thead th {\n",
       "        text-align: right;\n",
       "    }\n",
       "</style>\n",
       "<table border=\"1\" class=\"dataframe\">\n",
       "  <thead>\n",
       "    <tr style=\"text-align: right;\">\n",
       "      <th></th>\n",
       "      <th>Open</th>\n",
       "      <th>High</th>\n",
       "      <th>Low</th>\n",
       "      <th>Close</th>\n",
       "      <th>Adj Close</th>\n",
       "      <th>Volume</th>\n",
       "    </tr>\n",
       "    <tr>\n",
       "      <th>Date</th>\n",
       "      <th></th>\n",
       "      <th></th>\n",
       "      <th></th>\n",
       "      <th></th>\n",
       "      <th></th>\n",
       "      <th></th>\n",
       "    </tr>\n",
       "  </thead>\n",
       "  <tbody>\n",
       "    <tr>\n",
       "      <th>2010-01-04</th>\n",
       "      <td>6.8125</td>\n",
       "      <td>6.8305</td>\n",
       "      <td>6.6570</td>\n",
       "      <td>6.6950</td>\n",
       "      <td>6.6950</td>\n",
       "      <td>151998000</td>\n",
       "    </tr>\n",
       "    <tr>\n",
       "      <th>2010-01-05</th>\n",
       "      <td>6.6715</td>\n",
       "      <td>6.7740</td>\n",
       "      <td>6.5905</td>\n",
       "      <td>6.7345</td>\n",
       "      <td>6.7345</td>\n",
       "      <td>177038000</td>\n",
       "    </tr>\n",
       "    <tr>\n",
       "      <th>2010-01-06</th>\n",
       "      <td>6.7300</td>\n",
       "      <td>6.7365</td>\n",
       "      <td>6.5825</td>\n",
       "      <td>6.6125</td>\n",
       "      <td>6.6125</td>\n",
       "      <td>143576000</td>\n",
       "    </tr>\n",
       "    <tr>\n",
       "      <th>2010-01-07</th>\n",
       "      <td>6.6005</td>\n",
       "      <td>6.6160</td>\n",
       "      <td>6.4400</td>\n",
       "      <td>6.5000</td>\n",
       "      <td>6.5000</td>\n",
       "      <td>220604000</td>\n",
       "    </tr>\n",
       "    <tr>\n",
       "      <th>2010-01-08</th>\n",
       "      <td>6.5280</td>\n",
       "      <td>6.6840</td>\n",
       "      <td>6.4515</td>\n",
       "      <td>6.6760</td>\n",
       "      <td>6.6760</td>\n",
       "      <td>196610000</td>\n",
       "    </tr>\n",
       "  </tbody>\n",
       "</table>\n",
       "</div>"
      ],
      "text/plain": [
       "              Open    High     Low   Close  Adj Close     Volume\n",
       "Date                                                            \n",
       "2010-01-04  6.8125  6.8305  6.6570  6.6950     6.6950  151998000\n",
       "2010-01-05  6.6715  6.7740  6.5905  6.7345     6.7345  177038000\n",
       "2010-01-06  6.7300  6.7365  6.5825  6.6125     6.6125  143576000\n",
       "2010-01-07  6.6005  6.6160  6.4400  6.5000     6.5000  220604000\n",
       "2010-01-08  6.5280  6.6840  6.4515  6.6760     6.6760  196610000"
      ]
     },
     "execution_count": 3,
     "metadata": {},
     "output_type": "execute_result"
    }
   ],
   "source": [
    "# Cargar datos de google finance\n",
    "df = yf.download('AMZN', start='2010-01-01', end='2024-03-31')\n",
    "df.head(5) # Visualizar las primeras 5 filas"
   ]
  },
  {
   "cell_type": "code",
   "execution_count": 6,
   "metadata": {},
   "outputs": [
    {
     "data": {
      "text/plain": [
       "Date\n",
       "2010-01-04    6.6950\n",
       "2010-01-05    6.7345\n",
       "2010-01-06    6.6125\n",
       "2010-01-07    6.5000\n",
       "2010-01-08    6.6760\n",
       "Name: Adj Close, dtype: float64"
      ]
     },
     "execution_count": 6,
     "metadata": {},
     "output_type": "execute_result"
    }
   ],
   "source": [
    "df_2 = df[\"Adj Close\"] # Seleccionar solo la columna de precios de cierre ajustados\n",
    "df_2.head(5)"
   ]
  },
  {
   "cell_type": "code",
   "execution_count": 7,
   "metadata": {},
   "outputs": [
    {
     "data": {
      "text/plain": [
       "Date\n",
       "2024-03-22    178.869995\n",
       "2024-03-25    179.710007\n",
       "2024-03-26    178.300003\n",
       "2024-03-27    179.830002\n",
       "2024-03-28    180.380005\n",
       "Name: Adj Close, dtype: float64"
      ]
     },
     "execution_count": 7,
     "metadata": {},
     "output_type": "execute_result"
    }
   ],
   "source": [
    "df_2.tail(5) # Visualizar las últimas 5 filas"
   ]
  },
  {
   "cell_type": "code",
   "execution_count": null,
   "metadata": {},
   "outputs": [],
   "source": []
  },
  {
   "cell_type": "markdown",
   "metadata": {},
   "source": [
    "install:\n",
    "\tpip install --upgrade pip &&\\\n",
    "\t\tpip install -r requirements.txt"
   ]
  }
 ],
 "metadata": {
  "kernelspec": {
   "display_name": ".venv",
   "language": "python",
   "name": "python3"
  },
  "language_info": {
   "codemirror_mode": {
    "name": "ipython",
    "version": 3
   },
   "file_extension": ".py",
   "mimetype": "text/x-python",
   "name": "python",
   "nbconvert_exporter": "python",
   "pygments_lexer": "ipython3",
   "version": "3.10.11"
  }
 },
 "nbformat": 4,
 "nbformat_minor": 2
}
