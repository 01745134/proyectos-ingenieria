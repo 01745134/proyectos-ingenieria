{
 "cells": [
  {
   "cell_type": "markdown",
   "metadata": {},
   "source": [
    "Escribir el siguiente comando en la terminal para instalar las librerías necesarias: \n",
    "\n",
    "*pip install -r requirements.txt*"
   ]
  },
  {
   "cell_type": "code",
   "execution_count": 252,
   "metadata": {},
   "outputs": [],
   "source": [
    "# pip install -r requirements.txt"
   ]
  },
  {
   "cell_type": "code",
   "execution_count": 268,
   "metadata": {},
   "outputs": [],
   "source": [
    "import pandas as pd\n",
    "import numpy as np\n",
    "import matplotlib.pyplot as plt\n",
    "import yfinance as yf\n",
    "import scipy\n",
    "from fitter import Fitter"
   ]
  },
  {
   "cell_type": "markdown",
   "metadata": {},
   "source": [
    "## 1. Selección de una serie temporal económica"
   ]
  },
  {
   "cell_type": "markdown",
   "metadata": {},
   "source": [
    "Seleccionar una serie económica (stock Price, bitcoin, tasa de cambio etc..), que muestre un comportamiento parecido a una “caminata aleatoria”. Los datos deben estar actualizados hasta el 31/03/2024"
   ]
  },
  {
   "cell_type": "code",
   "execution_count": 254,
   "metadata": {},
   "outputs": [
    {
     "name": "stderr",
     "output_type": "stream",
     "text": [
      "[*********************100%%**********************]  1 of 1 completed\n"
     ]
    },
    {
     "data": {
      "text/html": [
       "<div>\n",
       "<style scoped>\n",
       "    .dataframe tbody tr th:only-of-type {\n",
       "        vertical-align: middle;\n",
       "    }\n",
       "\n",
       "    .dataframe tbody tr th {\n",
       "        vertical-align: top;\n",
       "    }\n",
       "\n",
       "    .dataframe thead th {\n",
       "        text-align: right;\n",
       "    }\n",
       "</style>\n",
       "<table border=\"1\" class=\"dataframe\">\n",
       "  <thead>\n",
       "    <tr style=\"text-align: right;\">\n",
       "      <th></th>\n",
       "      <th>Open</th>\n",
       "      <th>High</th>\n",
       "      <th>Low</th>\n",
       "      <th>Close</th>\n",
       "      <th>Adj Close</th>\n",
       "      <th>Volume</th>\n",
       "    </tr>\n",
       "    <tr>\n",
       "      <th>Date</th>\n",
       "      <th></th>\n",
       "      <th></th>\n",
       "      <th></th>\n",
       "      <th></th>\n",
       "      <th></th>\n",
       "      <th></th>\n",
       "    </tr>\n",
       "  </thead>\n",
       "  <tbody>\n",
       "    <tr>\n",
       "      <th>2020-01-02</th>\n",
       "      <td>93.750000</td>\n",
       "      <td>94.900497</td>\n",
       "      <td>93.207497</td>\n",
       "      <td>94.900497</td>\n",
       "      <td>94.900497</td>\n",
       "      <td>80580000</td>\n",
       "    </tr>\n",
       "    <tr>\n",
       "      <th>2020-01-03</th>\n",
       "      <td>93.224998</td>\n",
       "      <td>94.309998</td>\n",
       "      <td>93.224998</td>\n",
       "      <td>93.748497</td>\n",
       "      <td>93.748497</td>\n",
       "      <td>75288000</td>\n",
       "    </tr>\n",
       "    <tr>\n",
       "      <th>2020-01-06</th>\n",
       "      <td>93.000000</td>\n",
       "      <td>95.184502</td>\n",
       "      <td>93.000000</td>\n",
       "      <td>95.143997</td>\n",
       "      <td>95.143997</td>\n",
       "      <td>81236000</td>\n",
       "    </tr>\n",
       "    <tr>\n",
       "      <th>2020-01-07</th>\n",
       "      <td>95.224998</td>\n",
       "      <td>95.694504</td>\n",
       "      <td>94.601997</td>\n",
       "      <td>95.343002</td>\n",
       "      <td>95.343002</td>\n",
       "      <td>80898000</td>\n",
       "    </tr>\n",
       "    <tr>\n",
       "      <th>2020-01-08</th>\n",
       "      <td>94.902000</td>\n",
       "      <td>95.550003</td>\n",
       "      <td>94.321999</td>\n",
       "      <td>94.598503</td>\n",
       "      <td>94.598503</td>\n",
       "      <td>70160000</td>\n",
       "    </tr>\n",
       "  </tbody>\n",
       "</table>\n",
       "</div>"
      ],
      "text/plain": [
       "                 Open       High        Low      Close  Adj Close    Volume\n",
       "Date                                                                       \n",
       "2020-01-02  93.750000  94.900497  93.207497  94.900497  94.900497  80580000\n",
       "2020-01-03  93.224998  94.309998  93.224998  93.748497  93.748497  75288000\n",
       "2020-01-06  93.000000  95.184502  93.000000  95.143997  95.143997  81236000\n",
       "2020-01-07  95.224998  95.694504  94.601997  95.343002  95.343002  80898000\n",
       "2020-01-08  94.902000  95.550003  94.321999  94.598503  94.598503  70160000"
      ]
     },
     "execution_count": 254,
     "metadata": {},
     "output_type": "execute_result"
    }
   ],
   "source": [
    "# Cargar datos de google finance\n",
    "df = yf.download('AMZN', start='2020-01-01', end='2024-03-31') \n",
    "df.head(5) # Visualizar las primeras 5 filas"
   ]
  },
  {
   "cell_type": "code",
   "execution_count": 255,
   "metadata": {},
   "outputs": [
    {
     "data": {
      "text/html": [
       "<div>\n",
       "<style scoped>\n",
       "    .dataframe tbody tr th:only-of-type {\n",
       "        vertical-align: middle;\n",
       "    }\n",
       "\n",
       "    .dataframe tbody tr th {\n",
       "        vertical-align: top;\n",
       "    }\n",
       "\n",
       "    .dataframe thead th {\n",
       "        text-align: right;\n",
       "    }\n",
       "</style>\n",
       "<table border=\"1\" class=\"dataframe\">\n",
       "  <thead>\n",
       "    <tr style=\"text-align: right;\">\n",
       "      <th></th>\n",
       "      <th>Open</th>\n",
       "      <th>High</th>\n",
       "      <th>Low</th>\n",
       "      <th>Close</th>\n",
       "      <th>Adj Close</th>\n",
       "      <th>Volume</th>\n",
       "    </tr>\n",
       "    <tr>\n",
       "      <th>Date</th>\n",
       "      <th></th>\n",
       "      <th></th>\n",
       "      <th></th>\n",
       "      <th></th>\n",
       "      <th></th>\n",
       "      <th></th>\n",
       "    </tr>\n",
       "  </thead>\n",
       "  <tbody>\n",
       "    <tr>\n",
       "      <th>2024-03-22</th>\n",
       "      <td>177.750000</td>\n",
       "      <td>179.259995</td>\n",
       "      <td>176.750000</td>\n",
       "      <td>178.869995</td>\n",
       "      <td>178.869995</td>\n",
       "      <td>27964100</td>\n",
       "    </tr>\n",
       "    <tr>\n",
       "      <th>2024-03-25</th>\n",
       "      <td>178.009995</td>\n",
       "      <td>180.990005</td>\n",
       "      <td>177.240005</td>\n",
       "      <td>179.710007</td>\n",
       "      <td>179.710007</td>\n",
       "      <td>29815500</td>\n",
       "    </tr>\n",
       "    <tr>\n",
       "      <th>2024-03-26</th>\n",
       "      <td>180.149994</td>\n",
       "      <td>180.449997</td>\n",
       "      <td>177.949997</td>\n",
       "      <td>178.300003</td>\n",
       "      <td>178.300003</td>\n",
       "      <td>29659000</td>\n",
       "    </tr>\n",
       "    <tr>\n",
       "      <th>2024-03-27</th>\n",
       "      <td>179.880005</td>\n",
       "      <td>180.000000</td>\n",
       "      <td>177.309998</td>\n",
       "      <td>179.830002</td>\n",
       "      <td>179.830002</td>\n",
       "      <td>33272600</td>\n",
       "    </tr>\n",
       "    <tr>\n",
       "      <th>2024-03-28</th>\n",
       "      <td>180.169998</td>\n",
       "      <td>181.699997</td>\n",
       "      <td>179.259995</td>\n",
       "      <td>180.380005</td>\n",
       "      <td>180.380005</td>\n",
       "      <td>38051600</td>\n",
       "    </tr>\n",
       "  </tbody>\n",
       "</table>\n",
       "</div>"
      ],
      "text/plain": [
       "                  Open        High         Low       Close   Adj Close  \\\n",
       "Date                                                                     \n",
       "2024-03-22  177.750000  179.259995  176.750000  178.869995  178.869995   \n",
       "2024-03-25  178.009995  180.990005  177.240005  179.710007  179.710007   \n",
       "2024-03-26  180.149994  180.449997  177.949997  178.300003  178.300003   \n",
       "2024-03-27  179.880005  180.000000  177.309998  179.830002  179.830002   \n",
       "2024-03-28  180.169998  181.699997  179.259995  180.380005  180.380005   \n",
       "\n",
       "              Volume  \n",
       "Date                  \n",
       "2024-03-22  27964100  \n",
       "2024-03-25  29815500  \n",
       "2024-03-26  29659000  \n",
       "2024-03-27  33272600  \n",
       "2024-03-28  38051600  "
      ]
     },
     "execution_count": 255,
     "metadata": {},
     "output_type": "execute_result"
    }
   ],
   "source": [
    "df.tail(5) # Visualizar las últimas 5 filas"
   ]
  },
  {
   "cell_type": "markdown",
   "metadata": {},
   "source": [
    "Los datos están disponibles hasta el 2024-03-28 (yyyy-mm-dd)"
   ]
  },
  {
   "cell_type": "code",
   "execution_count": 256,
   "metadata": {},
   "outputs": [
    {
     "data": {
      "text/plain": [
       "(1067, 6)"
      ]
     },
     "execution_count": 256,
     "metadata": {},
     "output_type": "execute_result"
    }
   ],
   "source": [
    "df.shape # Dimensiones del dataframe"
   ]
  },
  {
   "cell_type": "code",
   "execution_count": 257,
   "metadata": {},
   "outputs": [
    {
     "data": {
      "text/html": [
       "<div>\n",
       "<style scoped>\n",
       "    .dataframe tbody tr th:only-of-type {\n",
       "        vertical-align: middle;\n",
       "    }\n",
       "\n",
       "    .dataframe tbody tr th {\n",
       "        vertical-align: top;\n",
       "    }\n",
       "\n",
       "    .dataframe thead th {\n",
       "        text-align: right;\n",
       "    }\n",
       "</style>\n",
       "<table border=\"1\" class=\"dataframe\">\n",
       "  <thead>\n",
       "    <tr style=\"text-align: right;\">\n",
       "      <th></th>\n",
       "      <th>Adj Close</th>\n",
       "    </tr>\n",
       "    <tr>\n",
       "      <th>Date</th>\n",
       "      <th></th>\n",
       "    </tr>\n",
       "  </thead>\n",
       "  <tbody>\n",
       "    <tr>\n",
       "      <th>2020-01-02</th>\n",
       "      <td>94.900497</td>\n",
       "    </tr>\n",
       "    <tr>\n",
       "      <th>2020-01-03</th>\n",
       "      <td>93.748497</td>\n",
       "    </tr>\n",
       "    <tr>\n",
       "      <th>2020-01-06</th>\n",
       "      <td>95.143997</td>\n",
       "    </tr>\n",
       "    <tr>\n",
       "      <th>2020-01-07</th>\n",
       "      <td>95.343002</td>\n",
       "    </tr>\n",
       "    <tr>\n",
       "      <th>2020-01-08</th>\n",
       "      <td>94.598503</td>\n",
       "    </tr>\n",
       "  </tbody>\n",
       "</table>\n",
       "</div>"
      ],
      "text/plain": [
       "            Adj Close\n",
       "Date                 \n",
       "2020-01-02  94.900497\n",
       "2020-01-03  93.748497\n",
       "2020-01-06  95.143997\n",
       "2020-01-07  95.343002\n",
       "2020-01-08  94.598503"
      ]
     },
     "execution_count": 257,
     "metadata": {},
     "output_type": "execute_result"
    }
   ],
   "source": [
    "df2 = df[[\"Adj Close\"]] # Seleccionar solo la columna de precios de cierre ajustados\n",
    "df2.head(5)"
   ]
  },
  {
   "cell_type": "code",
   "execution_count": 258,
   "metadata": {},
   "outputs": [
    {
     "data": {
      "text/html": [
       "<div>\n",
       "<style scoped>\n",
       "    .dataframe tbody tr th:only-of-type {\n",
       "        vertical-align: middle;\n",
       "    }\n",
       "\n",
       "    .dataframe tbody tr th {\n",
       "        vertical-align: top;\n",
       "    }\n",
       "\n",
       "    .dataframe thead th {\n",
       "        text-align: right;\n",
       "    }\n",
       "</style>\n",
       "<table border=\"1\" class=\"dataframe\">\n",
       "  <thead>\n",
       "    <tr style=\"text-align: right;\">\n",
       "      <th></th>\n",
       "      <th>Adj Close</th>\n",
       "    </tr>\n",
       "    <tr>\n",
       "      <th>Date</th>\n",
       "      <th></th>\n",
       "    </tr>\n",
       "  </thead>\n",
       "  <tbody>\n",
       "    <tr>\n",
       "      <th>2024-03-22</th>\n",
       "      <td>178.869995</td>\n",
       "    </tr>\n",
       "    <tr>\n",
       "      <th>2024-03-25</th>\n",
       "      <td>179.710007</td>\n",
       "    </tr>\n",
       "    <tr>\n",
       "      <th>2024-03-26</th>\n",
       "      <td>178.300003</td>\n",
       "    </tr>\n",
       "    <tr>\n",
       "      <th>2024-03-27</th>\n",
       "      <td>179.830002</td>\n",
       "    </tr>\n",
       "    <tr>\n",
       "      <th>2024-03-28</th>\n",
       "      <td>180.380005</td>\n",
       "    </tr>\n",
       "  </tbody>\n",
       "</table>\n",
       "</div>"
      ],
      "text/plain": [
       "             Adj Close\n",
       "Date                  \n",
       "2024-03-22  178.869995\n",
       "2024-03-25  179.710007\n",
       "2024-03-26  178.300003\n",
       "2024-03-27  179.830002\n",
       "2024-03-28  180.380005"
      ]
     },
     "execution_count": 258,
     "metadata": {},
     "output_type": "execute_result"
    }
   ],
   "source": [
    "df2.tail(5) # Visualizar las últimas 5 filas"
   ]
  },
  {
   "cell_type": "code",
   "execution_count": 259,
   "metadata": {},
   "outputs": [
    {
     "data": {
      "text/plain": [
       "<Axes: title={'center': 'Amazon Adjusted Stock Price'}, xlabel='Date'>"
      ]
     },
     "execution_count": 259,
     "metadata": {},
     "output_type": "execute_result"
    },
    {
     "data": {
      "image/png": "[encoded data removed]",
      "text/plain": [
       "<Figure size 640x480 with 1 Axes>"
      ]
     },
     "metadata": {},
     "output_type": "display_data"
    }
   ],
   "source": [
    "df2[\"Adj Close\"].plot(title = \"Amazon Adjusted Stock Price\", color = \"green\")"
   ]
  },
  {
   "cell_type": "markdown",
   "metadata": {},
   "source": [
    "Hurst exponent (H) is a measure for the long-term memory of a time series, that is, it measures the amount by which that series deviates from a random walk. The values of the Hurst exponent range between 0 and 1, with the following interpretation:\n",
    "\n",
    "* H < 0.5—a series is mean-reverting. The closer the value is to 0, the stronger the mean-reversion process is. \n",
    "* H = 0.5—a series is a geometric random walk. \n",
    "* H > 0.5—a series is trending. The closer the value is to 1, the stronger the trend. \n",
    "\n",
    "There are a few ways of calculating the Hurst exponent. In this recipe, we will focus on the one based on estimating the rate of the diffusive behavior, which is based on the variance of log prices."
   ]
  },
  {
   "cell_type": "code",
   "execution_count": 260,
   "metadata": {},
   "outputs": [],
   "source": [
    "# Define a function calculating the Hurst exponent:\n",
    "def get_hurst_exponent(ts, max_lag=20):\n",
    "    \"\"\"Returns the Hurst Exponent of the time series\"\"\"\n",
    "\n",
    "    lags = range(2, max_lag)\n",
    "\n",
    "    # standard deviations of the lagged differences\n",
    "    tau = [np.std(np.subtract(ts[lag:], ts[:-lag])) for lag in lags]\n",
    "\n",
    "    # calculate the slope of the log plot -> the Hurst Exponent\n",
    "    hurst_exp = np.polyfit(np.log(lags), np.log(tau), 1)[0]\n",
    "\n",
    "    return hurst_exp"
   ]
  },
  {
   "cell_type": "markdown",
   "metadata": {},
   "source": [
    "The calculations of the Hurst exponent can be summarized in two steps:\n",
    "\n",
    "For each lag in the considered range, we calculate the standard deviation of the differenced series. Calculate the slope of the log plot of lags versus the standard deviations to get the Hurst exponent."
   ]
  },
  {
   "cell_type": "code",
   "execution_count": 261,
   "metadata": {},
   "outputs": [
    {
     "name": "stdout",
     "output_type": "stream",
     "text": [
      "Hurst exponent with 20 lags: 0.4816\n",
      "Hurst exponent with 100 lags: 0.4725\n",
      "Hurst exponent with 250 lags: 0.4995\n",
      "Hurst exponent with 500 lags: 0.4372\n"
     ]
    }
   ],
   "source": [
    "for lag in [20, 100, 250, 500]:\n",
    "    hurst_exp = get_hurst_exponent(df[\"Adj Close\"].values, lag)\n",
    "    print(f\"Hurst exponent with {lag} lags: {hurst_exp:.4f}\");"
   ]
  },
  {
   "cell_type": "markdown",
   "metadata": {},
   "source": [
    "Los valores son más cercanos a 0.5, por lo que se considera a la serie como una caminata aleatoria"
   ]
  },
  {
   "cell_type": "markdown",
   "metadata": {},
   "source": [
    "## 2. Modelación con GBM (Geometric Brownian Motion)\n",
    "Modelar la serie usando modelos estocásticos"
   ]
  },
  {
   "cell_type": "markdown",
   "metadata": {},
   "source": [
    "Código inspirado en: https://blog.ms-researchhub.com/2021/11/27/modeling-asset-prices-with-geometric-brownian-motion-in-python/"
   ]
  },
  {
   "cell_type": "code",
   "execution_count": 281,
   "metadata": {},
   "outputs": [],
   "source": [
    "import pmdarima\n",
    "from sklearn.metrics import mean_absolute_percentage_error as mape"
   ]
  },
  {
   "cell_type": "code",
   "execution_count": 267,
   "metadata": {},
   "outputs": [
    {
     "name": "stderr",
     "output_type": "stream",
     "text": [
      "C:\\Users\\Usuario\\AppData\\Local\\Temp\\ipykernel_25148\\487191774.py:1: SettingWithCopyWarning: \n",
      "A value is trying to be set on a copy of a slice from a DataFrame.\n",
      "Try using .loc[row_indexer,col_indexer] = value instead\n",
      "\n",
      "See the caveats in the documentation: https://pandas.pydata.org/pandas-docs/stable/user_guide/indexing.html#returning-a-view-versus-a-copy\n",
      "  df2[\"log_rtn\"] = np.log(df2[\"Adj Close\"]/df2[\"Adj Close\"].shift(1))\n"
     ]
    },
    {
     "data": {
      "text/html": [
       "<div>\n",
       "<style scoped>\n",
       "    .dataframe tbody tr th:only-of-type {\n",
       "        vertical-align: middle;\n",
       "    }\n",
       "\n",
       "    .dataframe tbody tr th {\n",
       "        vertical-align: top;\n",
       "    }\n",
       "\n",
       "    .dataframe thead th {\n",
       "        text-align: right;\n",
       "    }\n",
       "</style>\n",
       "<table border=\"1\" class=\"dataframe\">\n",
       "  <thead>\n",
       "    <tr style=\"text-align: right;\">\n",
       "      <th></th>\n",
       "      <th>Adj Close</th>\n",
       "      <th>log_rtn</th>\n",
       "    </tr>\n",
       "    <tr>\n",
       "      <th>Date</th>\n",
       "      <th></th>\n",
       "      <th></th>\n",
       "    </tr>\n",
       "  </thead>\n",
       "  <tbody>\n",
       "    <tr>\n",
       "      <th>2020-01-03</th>\n",
       "      <td>93.748497</td>\n",
       "      <td>-0.012213</td>\n",
       "    </tr>\n",
       "    <tr>\n",
       "      <th>2020-01-06</th>\n",
       "      <td>95.143997</td>\n",
       "      <td>0.014776</td>\n",
       "    </tr>\n",
       "    <tr>\n",
       "      <th>2020-01-07</th>\n",
       "      <td>95.343002</td>\n",
       "      <td>0.002089</td>\n",
       "    </tr>\n",
       "    <tr>\n",
       "      <th>2020-01-08</th>\n",
       "      <td>94.598503</td>\n",
       "      <td>-0.007839</td>\n",
       "    </tr>\n",
       "    <tr>\n",
       "      <th>2020-01-09</th>\n",
       "      <td>95.052498</td>\n",
       "      <td>0.004788</td>\n",
       "    </tr>\n",
       "  </tbody>\n",
       "</table>\n",
       "</div>"
      ],
      "text/plain": [
       "            Adj Close   log_rtn\n",
       "Date                           \n",
       "2020-01-03  93.748497 -0.012213\n",
       "2020-01-06  95.143997  0.014776\n",
       "2020-01-07  95.343002  0.002089\n",
       "2020-01-08  94.598503 -0.007839\n",
       "2020-01-09  95.052498  0.004788"
      ]
     },
     "execution_count": 267,
     "metadata": {},
     "output_type": "execute_result"
    }
   ],
   "source": [
    "df2[\"log_rtn\"] = np.log(df2[\"Adj Close\"]/df2[\"Adj Close\"].shift(1))\n",
    "df2 = df2[[\"Adj Close\", \"log_rtn\"]].dropna()\n",
    "df2.head(5)\n"
   ]
  },
  {
   "cell_type": "code",
   "execution_count": 273,
   "metadata": {},
   "outputs": [],
   "source": [
    "train, test = pmdarima.model_selection.train_test_split(df2[\"Adj Close\"].dropna(), train_size = 0.8)\n",
    "training, testing = pmdarima.model_selection.train_test_split(df2[\"log_rtn\"].dropna(), train_size = 0.8)"
   ]
  },
  {
   "cell_type": "code",
   "execution_count": 274,
   "metadata": {},
   "outputs": [
    {
     "name": "stderr",
     "output_type": "stream",
     "text": [
      "\u001b[32m2024-04-11 20:35:08.596\u001b[0m | \u001b[33m\u001b[1mWARNING \u001b[0m | \u001b[36mfitter.fitter\u001b[0m:\u001b[36m_fit_single_distribution\u001b[0m:\u001b[36m347\u001b[0m - \u001b[33m\u001b[1mSKIPPED _fit distribution (taking more than 120 seconds)\u001b[0m\n",
      "\u001b[32m2024-04-11 20:35:08.801\u001b[0m | \u001b[1mINFO    \u001b[0m | \u001b[36mfitter.fitter\u001b[0m:\u001b[36m_fit_single_distribution\u001b[0m:\u001b[36m337\u001b[0m - \u001b[1mFitted anglit distribution with error=4954.0518)\u001b[0m\n",
      "\u001b[32m2024-04-11 20:35:09.077\u001b[0m | \u001b[1mINFO    \u001b[0m | \u001b[36mfitter.fitter\u001b[0m:\u001b[36m_fit_single_distribution\u001b[0m:\u001b[36m337\u001b[0m - \u001b[1mFitted arcsine distribution with error=4807.29988)\u001b[0m\n",
      "\u001b[32m2024-04-11 20:35:09.198\u001b[0m | \u001b[1mINFO    \u001b[0m | \u001b[36mfitter.fitter\u001b[0m:\u001b[36m_fit_single_distribution\u001b[0m:\u001b[36m337\u001b[0m - \u001b[1mFitted argus distribution with error=3038.607712)\u001b[0m\n",
      "\u001b[32m2024-04-11 20:35:09.527\u001b[0m | \u001b[1mINFO    \u001b[0m | \u001b[36mfitter.fitter\u001b[0m:\u001b[36m_fit_single_distribution\u001b[0m:\u001b[36m337\u001b[0m - \u001b[1mFitted alpha distribution with error=335.66932)\u001b[0m\n",
      "\u001b[32m2024-04-11 20:35:09.639\u001b[0m | \u001b[1mINFO    \u001b[0m | \u001b[36mfitter.fitter\u001b[0m:\u001b[36m_fit_single_distribution\u001b[0m:\u001b[36m337\u001b[0m - \u001b[1mFitted bradford distribution with error=3873.659912)\u001b[0m\n",
      "\u001b[32m2024-04-11 20:35:10.016\u001b[0m | \u001b[1mINFO    \u001b[0m | \u001b[36mfitter.fitter\u001b[0m:\u001b[36m_fit_single_distribution\u001b[0m:\u001b[36m337\u001b[0m - \u001b[1mFitted beta distribution with error=292.768112)\u001b[0m\n",
      "\u001b[32m2024-04-11 20:35:10.095\u001b[0m | \u001b[1mINFO    \u001b[0m | \u001b[36mfitter.fitter\u001b[0m:\u001b[36m_fit_single_distribution\u001b[0m:\u001b[36m337\u001b[0m - \u001b[1mFitted cauchy distribution with error=266.390671)\u001b[0m\n",
      "\u001b[32m2024-04-11 20:35:10.252\u001b[0m | \u001b[1mINFO    \u001b[0m | \u001b[36mfitter.fitter\u001b[0m:\u001b[36m_fit_single_distribution\u001b[0m:\u001b[36m337\u001b[0m - \u001b[1mFitted betaprime distribution with error=296.66092)\u001b[0m\n",
      "\u001b[32m2024-04-11 20:35:10.758\u001b[0m | \u001b[1mINFO    \u001b[0m | \u001b[36mfitter.fitter\u001b[0m:\u001b[36m_fit_single_distribution\u001b[0m:\u001b[36m337\u001b[0m - \u001b[1mFitted burr12 distribution with error=128.468857)\u001b[0m\n",
      "\u001b[32m2024-04-11 20:35:10.763\u001b[0m | \u001b[1mINFO    \u001b[0m | \u001b[36mfitter.fitter\u001b[0m:\u001b[36m_fit_single_distribution\u001b[0m:\u001b[36m337\u001b[0m - \u001b[1mFitted chi distribution with error=301.109491)\u001b[0m\n",
      "\u001b[32m2024-04-11 20:35:10.951\u001b[0m | \u001b[1mINFO    \u001b[0m | \u001b[36mfitter.fitter\u001b[0m:\u001b[36m_fit_single_distribution\u001b[0m:\u001b[36m337\u001b[0m - \u001b[1mFitted chi2 distribution with error=4933.451733)\u001b[0m\n",
      "\u001b[32m2024-04-11 20:35:10.977\u001b[0m | \u001b[1mINFO    \u001b[0m | \u001b[36mfitter.fitter\u001b[0m:\u001b[36m_fit_single_distribution\u001b[0m:\u001b[36m337\u001b[0m - \u001b[1mFitted cosine distribution with error=4954.0518)\u001b[0m\n",
      "\u001b[32m2024-04-11 20:35:11.065\u001b[0m | \u001b[1mINFO    \u001b[0m | \u001b[36mfitter.fitter\u001b[0m:\u001b[36m_fit_single_distribution\u001b[0m:\u001b[36m337\u001b[0m - \u001b[1mFitted dgamma distribution with error=160.304901)\u001b[0m\n",
      "\u001b[32m2024-04-11 20:35:11.110\u001b[0m | \u001b[1mINFO    \u001b[0m | \u001b[36mfitter.fitter\u001b[0m:\u001b[36m_fit_single_distribution\u001b[0m:\u001b[36m337\u001b[0m - \u001b[1mFitted dweibull distribution with error=123.749209)\u001b[0m\n",
      "\u001b[32m2024-04-11 20:35:11.124\u001b[0m | \u001b[1mINFO    \u001b[0m | \u001b[36mfitter.fitter\u001b[0m:\u001b[36m_fit_single_distribution\u001b[0m:\u001b[36m337\u001b[0m - \u001b[1mFitted expon distribution with error=4341.91335)\u001b[0m\n",
      "\u001b[32m2024-04-11 20:35:11.271\u001b[0m | \u001b[1mINFO    \u001b[0m | \u001b[36mfitter.fitter\u001b[0m:\u001b[36m_fit_single_distribution\u001b[0m:\u001b[36m337\u001b[0m - \u001b[1mFitted exponnorm distribution with error=268.80727)\u001b[0m\n",
      "\u001b[32m2024-04-11 20:35:11.789\u001b[0m | \u001b[1mINFO    \u001b[0m | \u001b[36mfitter.fitter\u001b[0m:\u001b[36m_fit_single_distribution\u001b[0m:\u001b[36m337\u001b[0m - \u001b[1mFitted erlang distribution with error=306.580063)\u001b[0m\n",
      "\u001b[32m2024-04-11 20:35:12.264\u001b[0m | \u001b[1mINFO    \u001b[0m | \u001b[36mfitter.fitter\u001b[0m:\u001b[36m_fit_single_distribution\u001b[0m:\u001b[36m337\u001b[0m - \u001b[1mFitted exponpow distribution with error=1370.269019)\u001b[0m\n",
      "\u001b[32m2024-04-11 20:35:12.372\u001b[0m | \u001b[1mINFO    \u001b[0m | \u001b[36mfitter.fitter\u001b[0m:\u001b[36m_fit_single_distribution\u001b[0m:\u001b[36m337\u001b[0m - \u001b[1mFitted burr distribution with error=124.406575)\u001b[0m\n",
      "\u001b[32m2024-04-11 20:35:12.652\u001b[0m | \u001b[1mINFO    \u001b[0m | \u001b[36mfitter.fitter\u001b[0m:\u001b[36m_fit_single_distribution\u001b[0m:\u001b[36m337\u001b[0m - \u001b[1mFitted crystalball distribution with error=214.855924)\u001b[0m\n",
      "\u001b[32m2024-04-11 20:35:13.144\u001b[0m | \u001b[1mINFO    \u001b[0m | \u001b[36mfitter.fitter\u001b[0m:\u001b[36m_fit_single_distribution\u001b[0m:\u001b[36m337\u001b[0m - \u001b[1mFitted fatiguelife distribution with error=293.467837)\u001b[0m\n",
      "\u001b[32m2024-04-11 20:35:13.267\u001b[0m | \u001b[1mINFO    \u001b[0m | \u001b[36mfitter.fitter\u001b[0m:\u001b[36m_fit_single_distribution\u001b[0m:\u001b[36m337\u001b[0m - \u001b[1mFitted exponweib distribution with error=284.584092)\u001b[0m\n",
      "\u001b[32m2024-04-11 20:35:13.335\u001b[0m | \u001b[1mINFO    \u001b[0m | \u001b[36mfitter.fitter\u001b[0m:\u001b[36m_fit_single_distribution\u001b[0m:\u001b[36m337\u001b[0m - \u001b[1mFitted f distribution with error=4677.538481)\u001b[0m\n",
      "\u001b[32m2024-04-11 20:35:13.448\u001b[0m | \u001b[1mINFO    \u001b[0m | \u001b[36mfitter.fitter\u001b[0m:\u001b[36m_fit_single_distribution\u001b[0m:\u001b[36m337\u001b[0m - \u001b[1mFitted foldcauchy distribution with error=3495.15496)\u001b[0m\n",
      "\u001b[32m2024-04-11 20:35:13.833\u001b[0m | \u001b[1mINFO    \u001b[0m | \u001b[36mfitter.fitter\u001b[0m:\u001b[36m_fit_single_distribution\u001b[0m:\u001b[36m337\u001b[0m - \u001b[1mFitted gamma distribution with error=297.695443)\u001b[0m\n",
      "\u001b[32m2024-04-11 20:35:14.349\u001b[0m | \u001b[1mINFO    \u001b[0m | \u001b[36mfitter.fitter\u001b[0m:\u001b[36m_fit_single_distribution\u001b[0m:\u001b[36m337\u001b[0m - \u001b[1mFitted foldnorm distribution with error=292.623083)\u001b[0m\n",
      "\u001b[32m2024-04-11 20:35:14.541\u001b[0m | \u001b[1mINFO    \u001b[0m | \u001b[36mfitter.fitter\u001b[0m:\u001b[36m_fit_single_distribution\u001b[0m:\u001b[36m337\u001b[0m - \u001b[1mFitted fisk distribution with error=128.996704)\u001b[0m\n",
      "\u001b[32m2024-04-11 20:35:15.739\u001b[0m | \u001b[1mINFO    \u001b[0m | \u001b[36mfitter.fitter\u001b[0m:\u001b[36m_fit_single_distribution\u001b[0m:\u001b[36m337\u001b[0m - \u001b[1mFitted gausshyper distribution with error=602.165372)\u001b[0m\n",
      "\u001b[32m2024-04-11 20:35:15.890\u001b[0m | \u001b[1mINFO    \u001b[0m | \u001b[36mfitter.fitter\u001b[0m:\u001b[36m_fit_single_distribution\u001b[0m:\u001b[36m337\u001b[0m - \u001b[1mFitted genexpon distribution with error=3026.298617)\u001b[0m\n",
      "\u001b[32m2024-04-11 20:35:18.436\u001b[0m | \u001b[1mINFO    \u001b[0m | \u001b[36mfitter.fitter\u001b[0m:\u001b[36m_fit_single_distribution\u001b[0m:\u001b[36m337\u001b[0m - \u001b[1mFitted genhyperbolic distribution with error=101.545512)\u001b[0m\n",
      "\u001b[32m2024-04-11 20:35:18.592\u001b[0m | \u001b[1mINFO    \u001b[0m | \u001b[36mfitter.fitter\u001b[0m:\u001b[36m_fit_single_distribution\u001b[0m:\u001b[36m337\u001b[0m - \u001b[1mFitted genhalflogistic distribution with error=3378.921511)\u001b[0m\n",
      "\u001b[32m2024-04-11 20:35:19.552\u001b[0m | \u001b[1mINFO    \u001b[0m | \u001b[36mfitter.fitter\u001b[0m:\u001b[36m_fit_single_distribution\u001b[0m:\u001b[36m337\u001b[0m - \u001b[1mFitted gengamma distribution with error=302.797245)\u001b[0m\n",
      "\u001b[32m2024-04-11 20:35:19.623\u001b[0m | \u001b[1mINFO    \u001b[0m | \u001b[36mfitter.fitter\u001b[0m:\u001b[36m_fit_single_distribution\u001b[0m:\u001b[36m337\u001b[0m - \u001b[1mFitted geninvgauss distribution with error=2679.209948)\u001b[0m\n",
      "\u001b[32m2024-04-11 20:35:19.638\u001b[0m | \u001b[1mINFO    \u001b[0m | \u001b[36mfitter.fitter\u001b[0m:\u001b[36m_fit_single_distribution\u001b[0m:\u001b[36m337\u001b[0m - \u001b[1mFitted genlogistic distribution with error=125.839393)\u001b[0m\n",
      "\u001b[32m2024-04-11 20:35:19.771\u001b[0m | \u001b[1mINFO    \u001b[0m | \u001b[36mfitter.fitter\u001b[0m:\u001b[36m_fit_single_distribution\u001b[0m:\u001b[36m337\u001b[0m - \u001b[1mFitted gennorm distribution with error=107.953135)\u001b[0m\n",
      "\u001b[32m2024-04-11 20:35:20.012\u001b[0m | \u001b[1mINFO    \u001b[0m | \u001b[36mfitter.fitter\u001b[0m:\u001b[36m_fit_single_distribution\u001b[0m:\u001b[36m337\u001b[0m - \u001b[1mFitted gibrat distribution with error=3876.219154)\u001b[0m\n",
      "\u001b[32m2024-04-11 20:35:20.036\u001b[0m | \u001b[1mINFO    \u001b[0m | \u001b[36mfitter.fitter\u001b[0m:\u001b[36m_fit_single_distribution\u001b[0m:\u001b[36m337\u001b[0m - \u001b[1mFitted gumbel_l distribution with error=938.733564)\u001b[0m\n",
      "\u001b[32m2024-04-11 20:35:20.053\u001b[0m | \u001b[1mINFO    \u001b[0m | \u001b[36mfitter.fitter\u001b[0m:\u001b[36m_fit_single_distribution\u001b[0m:\u001b[36m337\u001b[0m - \u001b[1mFitted genextreme distribution with error=5037.257666)\u001b[0m\n",
      "\u001b[32m2024-04-11 20:35:20.066\u001b[0m | \u001b[1mINFO    \u001b[0m | \u001b[36mfitter.fitter\u001b[0m:\u001b[36m_fit_single_distribution\u001b[0m:\u001b[36m337\u001b[0m - \u001b[1mFitted gumbel_r distribution with error=1095.151413)\u001b[0m\n",
      "\u001b[32m2024-04-11 20:35:20.105\u001b[0m | \u001b[1mINFO    \u001b[0m | \u001b[36mfitter.fitter\u001b[0m:\u001b[36m_fit_single_distribution\u001b[0m:\u001b[36m337\u001b[0m - \u001b[1mFitted halfcauchy distribution with error=4153.490611)\u001b[0m\n",
      "\u001b[32m2024-04-11 20:35:20.190\u001b[0m | \u001b[1mINFO    \u001b[0m | \u001b[36mfitter.fitter\u001b[0m:\u001b[36m_fit_single_distribution\u001b[0m:\u001b[36m337\u001b[0m - \u001b[1mFitted halflogistic distribution with error=4015.764169)\u001b[0m\n",
      "\u001b[32m2024-04-11 20:35:20.211\u001b[0m | \u001b[1mINFO    \u001b[0m | \u001b[36mfitter.fitter\u001b[0m:\u001b[36m_fit_single_distribution\u001b[0m:\u001b[36m337\u001b[0m - \u001b[1mFitted halfnorm distribution with error=3968.638626)\u001b[0m\n",
      "\u001b[32m2024-04-11 20:35:20.320\u001b[0m | \u001b[1mINFO    \u001b[0m | \u001b[36mfitter.fitter\u001b[0m:\u001b[36m_fit_single_distribution\u001b[0m:\u001b[36m337\u001b[0m - \u001b[1mFitted genpareto distribution with error=4530.818117)\u001b[0m\n",
      "\u001b[32m2024-04-11 20:35:20.345\u001b[0m | \u001b[1mINFO    \u001b[0m | \u001b[36mfitter.fitter\u001b[0m:\u001b[36m_fit_single_distribution\u001b[0m:\u001b[36m337\u001b[0m - \u001b[1mFitted hypsecant distribution with error=101.339564)\u001b[0m\n",
      "\u001b[32m2024-04-11 20:35:20.598\u001b[0m | \u001b[1mINFO    \u001b[0m | \u001b[36mfitter.fitter\u001b[0m:\u001b[36m_fit_single_distribution\u001b[0m:\u001b[36m337\u001b[0m - \u001b[1mFitted gompertz distribution with error=939.329344)\u001b[0m\n",
      "\u001b[32m2024-04-11 20:35:21.036\u001b[0m | \u001b[1mINFO    \u001b[0m | \u001b[36mfitter.fitter\u001b[0m:\u001b[36m_fit_single_distribution\u001b[0m:\u001b[36m337\u001b[0m - \u001b[1mFitted invgamma distribution with error=317.698141)\u001b[0m\n",
      "\u001b[32m2024-04-11 20:35:21.086\u001b[0m | \u001b[1mINFO    \u001b[0m | \u001b[36mfitter.fitter\u001b[0m:\u001b[36m_fit_single_distribution\u001b[0m:\u001b[36m337\u001b[0m - \u001b[1mFitted halfgennorm distribution with error=3301.462338)\u001b[0m\n",
      "\u001b[32m2024-04-11 20:35:21.568\u001b[0m | \u001b[1mINFO    \u001b[0m | \u001b[36mfitter.fitter\u001b[0m:\u001b[36m_fit_single_distribution\u001b[0m:\u001b[36m337\u001b[0m - \u001b[1mFitted invgauss distribution with error=359.79793)\u001b[0m\n",
      "\u001b[32m2024-04-11 20:35:22.001\u001b[0m | \u001b[1mINFO    \u001b[0m | \u001b[36mfitter.fitter\u001b[0m:\u001b[36m_fit_single_distribution\u001b[0m:\u001b[36m337\u001b[0m - \u001b[1mFitted jf_skew_t distribution with error=112.572444)\u001b[0m\n",
      "\u001b[32m2024-04-11 20:35:22.088\u001b[0m | \u001b[1mINFO    \u001b[0m | \u001b[36mfitter.fitter\u001b[0m:\u001b[36m_fit_single_distribution\u001b[0m:\u001b[36m337\u001b[0m - \u001b[1mFitted johnsonsu distribution with error=101.085611)\u001b[0m\n",
      "\u001b[32m2024-04-11 20:35:22.176\u001b[0m | \u001b[1mINFO    \u001b[0m | \u001b[36mfitter.fitter\u001b[0m:\u001b[36m_fit_single_distribution\u001b[0m:\u001b[36m337\u001b[0m - \u001b[1mFitted invweibull distribution with error=1095.60794)\u001b[0m\n",
      "\u001b[32m2024-04-11 20:35:22.329\u001b[0m | \u001b[1mINFO    \u001b[0m | \u001b[36mfitter.fitter\u001b[0m:\u001b[36m_fit_single_distribution\u001b[0m:\u001b[36m337\u001b[0m - \u001b[1mFitted ksone distribution with error=3699.198409)\u001b[0m\n",
      "\u001b[32m2024-04-11 20:35:24.902\u001b[0m | \u001b[1mINFO    \u001b[0m | \u001b[36mfitter.fitter\u001b[0m:\u001b[36m_fit_single_distribution\u001b[0m:\u001b[36m337\u001b[0m - \u001b[1mFitted kstwo distribution with error=3736.130158)\u001b[0m\n",
      "\u001b[32m2024-04-11 20:35:25.374\u001b[0m | \u001b[1mINFO    \u001b[0m | \u001b[36mfitter.fitter\u001b[0m:\u001b[36m_fit_single_distribution\u001b[0m:\u001b[36m337\u001b[0m - \u001b[1mFitted kstwobign distribution with error=2071.889209)\u001b[0m\n",
      "\u001b[32m2024-04-11 20:35:25.387\u001b[0m | \u001b[1mINFO    \u001b[0m | \u001b[36mfitter.fitter\u001b[0m:\u001b[36m_fit_single_distribution\u001b[0m:\u001b[36m337\u001b[0m - \u001b[1mFitted laplace distribution with error=150.77437)\u001b[0m\n",
      "\u001b[32m2024-04-11 20:35:25.525\u001b[0m | \u001b[1mINFO    \u001b[0m | \u001b[36mfitter.fitter\u001b[0m:\u001b[36m_fit_single_distribution\u001b[0m:\u001b[36m337\u001b[0m - \u001b[1mFitted laplace_asymmetric distribution with error=139.197351)\u001b[0m\n",
      "\u001b[32m2024-04-11 20:35:25.695\u001b[0m | \u001b[1mINFO    \u001b[0m | \u001b[36mfitter.fitter\u001b[0m:\u001b[36m_fit_single_distribution\u001b[0m:\u001b[36m337\u001b[0m - \u001b[1mFitted levy distribution with error=4175.242746)\u001b[0m\n",
      "\u001b[32m2024-04-11 20:35:25.719\u001b[0m | \u001b[1mINFO    \u001b[0m | \u001b[36mfitter.fitter\u001b[0m:\u001b[36m_fit_single_distribution\u001b[0m:\u001b[36m337\u001b[0m - \u001b[1mFitted kappa3 distribution with error=3230.207567)\u001b[0m\n",
      "\u001b[32m2024-04-11 20:35:28.053\u001b[0m | \u001b[1mINFO    \u001b[0m | \u001b[36mfitter.fitter\u001b[0m:\u001b[36m_fit_single_distribution\u001b[0m:\u001b[36m337\u001b[0m - \u001b[1mFitted johnsonsb distribution with error=292.077831)\u001b[0m\n",
      "\u001b[32m2024-04-11 20:35:28.778\u001b[0m | \u001b[1mINFO    \u001b[0m | \u001b[36mfitter.fitter\u001b[0m:\u001b[36m_fit_single_distribution\u001b[0m:\u001b[36m337\u001b[0m - \u001b[1mFitted levy_l distribution with error=4035.50065)\u001b[0m\n",
      "\u001b[32m2024-04-11 20:35:29.160\u001b[0m | \u001b[1mINFO    \u001b[0m | \u001b[36mfitter.fitter\u001b[0m:\u001b[36m_fit_single_distribution\u001b[0m:\u001b[36m337\u001b[0m - \u001b[1mFitted logistic distribution with error=128.738842)\u001b[0m\n",
      "\u001b[32m2024-04-11 20:35:37.411\u001b[0m | \u001b[1mINFO    \u001b[0m | \u001b[36mfitter.fitter\u001b[0m:\u001b[36m_fit_single_distribution\u001b[0m:\u001b[36m337\u001b[0m - \u001b[1mFitted loggamma distribution with error=292.690647)\u001b[0m\n",
      "\u001b[32m2024-04-11 20:35:44.617\u001b[0m | \u001b[1mINFO    \u001b[0m | \u001b[36mfitter.fitter\u001b[0m:\u001b[36m_fit_single_distribution\u001b[0m:\u001b[36m337\u001b[0m - \u001b[1mFitted loglaplace distribution with error=150.248475)\u001b[0m\n",
      "\u001b[32m2024-04-11 20:35:45.493\u001b[0m | \u001b[33m\u001b[1mWARNING \u001b[0m | \u001b[36mfitter.fitter\u001b[0m:\u001b[36m_fit_single_distribution\u001b[0m:\u001b[36m347\u001b[0m - \u001b[33m\u001b[1mSKIPPED loguniform distribution (taking more than 120 seconds)\u001b[0m\n",
      "\u001b[32m2024-04-11 20:35:52.907\u001b[0m | \u001b[1mINFO    \u001b[0m | \u001b[36mfitter.fitter\u001b[0m:\u001b[36m_fit_single_distribution\u001b[0m:\u001b[36m337\u001b[0m - \u001b[1mFitted kappa4 distribution with error=3748.878059)\u001b[0m\n",
      "\u001b[32m2024-04-11 20:35:56.413\u001b[0m | \u001b[1mINFO    \u001b[0m | \u001b[36mfitter.fitter\u001b[0m:\u001b[36m_fit_single_distribution\u001b[0m:\u001b[36m337\u001b[0m - \u001b[1mFitted maxwell distribution with error=2503.482762)\u001b[0m\n",
      "\u001b[32m2024-04-11 20:35:56.863\u001b[0m | \u001b[1mINFO    \u001b[0m | \u001b[36mfitter.fitter\u001b[0m:\u001b[36m_fit_single_distribution\u001b[0m:\u001b[36m337\u001b[0m - \u001b[1mFitted lognorm distribution with error=291.10139)\u001b[0m\n",
      "\u001b[32m2024-04-11 20:35:58.546\u001b[0m | \u001b[1mINFO    \u001b[0m | \u001b[36mfitter.fitter\u001b[0m:\u001b[36m_fit_single_distribution\u001b[0m:\u001b[36m337\u001b[0m - \u001b[1mFitted lomax distribution with error=4494.323366)\u001b[0m\n",
      "\u001b[32m2024-04-11 20:35:58.625\u001b[0m | \u001b[33m\u001b[1mWARNING \u001b[0m | \u001b[36mfitter.fitter\u001b[0m:\u001b[36m_fit_single_distribution\u001b[0m:\u001b[36m347\u001b[0m - \u001b[33m\u001b[1mSKIPPED multivariate_normal distribution (taking more than 120 seconds)\u001b[0m\n",
      "\u001b[32m2024-04-11 20:35:58.740\u001b[0m | \u001b[1mINFO    \u001b[0m | \u001b[36mfitter.fitter\u001b[0m:\u001b[36m_fit_single_distribution\u001b[0m:\u001b[36m337\u001b[0m - \u001b[1mFitted moyal distribution with error=1621.085122)\u001b[0m\n",
      "\u001b[32m2024-04-11 20:36:12.295\u001b[0m | \u001b[1mINFO    \u001b[0m | \u001b[36mfitter.fitter\u001b[0m:\u001b[36m_fit_single_distribution\u001b[0m:\u001b[36m337\u001b[0m - \u001b[1mFitted nakagami distribution with error=294.985503)\u001b[0m\n",
      "\u001b[32m2024-04-11 20:36:16.531\u001b[0m | \u001b[1mINFO    \u001b[0m | \u001b[36mfitter.fitter\u001b[0m:\u001b[36m_fit_single_distribution\u001b[0m:\u001b[36m337\u001b[0m - \u001b[1mFitted mielke distribution with error=124.406568)\u001b[0m\n",
      "\u001b[32m2024-04-11 20:36:23.868\u001b[0m | \u001b[1mINFO    \u001b[0m | \u001b[36mfitter.fitter\u001b[0m:\u001b[36m_fit_single_distribution\u001b[0m:\u001b[36m337\u001b[0m - \u001b[1mFitted ncf distribution with error=4565.630104)\u001b[0m\n",
      "\u001b[32m2024-04-11 20:36:24.030\u001b[0m | \u001b[1mINFO    \u001b[0m | \u001b[36mfitter.fitter\u001b[0m:\u001b[36m_fit_single_distribution\u001b[0m:\u001b[36m337\u001b[0m - \u001b[1mFitted norm distribution with error=293.198079)\u001b[0m\n",
      "\u001b[32m2024-04-11 20:36:36.216\u001b[0m | \u001b[1mINFO    \u001b[0m | \u001b[36mfitter.fitter\u001b[0m:\u001b[36m_fit_single_distribution\u001b[0m:\u001b[36m337\u001b[0m - \u001b[1mFitted norminvgauss distribution with error=98.86439)\u001b[0m\n",
      "\u001b[32m2024-04-11 20:36:36.693\u001b[0m | \u001b[1mINFO    \u001b[0m | \u001b[36mfitter.fitter\u001b[0m:\u001b[36m_fit_single_distribution\u001b[0m:\u001b[36m337\u001b[0m - \u001b[1mFitted pareto distribution with error=4341.913348)\u001b[0m\n",
      "\u001b[32m2024-04-11 20:36:39.488\u001b[0m | \u001b[1mINFO    \u001b[0m | \u001b[36mfitter.fitter\u001b[0m:\u001b[36m_fit_single_distribution\u001b[0m:\u001b[36m337\u001b[0m - \u001b[1mFitted nct distribution with error=104.908615)\u001b[0m\n",
      "\u001b[32m2024-04-11 20:36:40.088\u001b[0m | \u001b[1mINFO    \u001b[0m | \u001b[36mfitter.fitter\u001b[0m:\u001b[36m_fit_single_distribution\u001b[0m:\u001b[36m337\u001b[0m - \u001b[1mFitted powerlaw distribution with error=3597.146331)\u001b[0m\n",
      "\u001b[32m2024-04-11 20:36:40.710\u001b[0m | \u001b[1mINFO    \u001b[0m | \u001b[36mfitter.fitter\u001b[0m:\u001b[36m_fit_single_distribution\u001b[0m:\u001b[36m337\u001b[0m - \u001b[1mFitted ncx2 distribution with error=3727.167117)\u001b[0m\n",
      "\u001b[32m2024-04-11 20:36:42.490\u001b[0m | \u001b[1mINFO    \u001b[0m | \u001b[36mfitter.fitter\u001b[0m:\u001b[36m_fit_single_distribution\u001b[0m:\u001b[36m337\u001b[0m - \u001b[1mFitted pearson3 distribution with error=292.91581)\u001b[0m\n",
      "\u001b[32m2024-04-11 20:36:42.808\u001b[0m | \u001b[1mINFO    \u001b[0m | \u001b[36mfitter.fitter\u001b[0m:\u001b[36m_fit_single_distribution\u001b[0m:\u001b[36m337\u001b[0m - \u001b[1mFitted rayleigh distribution with error=3024.637013)\u001b[0m\n",
      "\u001b[32m2024-04-11 20:36:45.449\u001b[0m | \u001b[1mINFO    \u001b[0m | \u001b[36mfitter.fitter\u001b[0m:\u001b[36m_fit_single_distribution\u001b[0m:\u001b[36m337\u001b[0m - \u001b[1mFitted powernorm distribution with error=287.048469)\u001b[0m\n",
      "\u001b[32m2024-04-11 20:36:45.714\u001b[0m | \u001b[1mINFO    \u001b[0m | \u001b[36mfitter.fitter\u001b[0m:\u001b[36m_fit_single_distribution\u001b[0m:\u001b[36m337\u001b[0m - \u001b[1mFitted rdist distribution with error=4954.0518)\u001b[0m\n",
      "\u001b[32m2024-04-11 20:36:46.619\u001b[0m | \u001b[33m\u001b[1mWARNING \u001b[0m | \u001b[36mfitter.fitter\u001b[0m:\u001b[36m_fit_single_distribution\u001b[0m:\u001b[36m347\u001b[0m - \u001b[33m\u001b[1mSKIPPED reciprocal distribution (taking more than 120 seconds)\u001b[0m\n",
      "\u001b[32m2024-04-11 20:36:53.598\u001b[0m | \u001b[1mINFO    \u001b[0m | \u001b[36mfitter.fitter\u001b[0m:\u001b[36m_fit_single_distribution\u001b[0m:\u001b[36m337\u001b[0m - \u001b[1mFitted rel_breitwigner distribution with error=3719.614137)\u001b[0m\n",
      "\u001b[32m2024-04-11 20:37:15.982\u001b[0m | \u001b[1mINFO    \u001b[0m | \u001b[36mfitter.fitter\u001b[0m:\u001b[36m_fit_single_distribution\u001b[0m:\u001b[36m337\u001b[0m - \u001b[1mFitted rice distribution with error=293.129666)\u001b[0m\n",
      "\u001b[32m2024-04-11 20:37:16.119\u001b[0m | \u001b[33m\u001b[1mWARNING \u001b[0m | \u001b[36mfitter.fitter\u001b[0m:\u001b[36m_fit_single_distribution\u001b[0m:\u001b[36m347\u001b[0m - \u001b[33m\u001b[1mSKIPPED rv_continuous distribution (taking more than 120 seconds)\u001b[0m\n",
      "\u001b[32m2024-04-11 20:37:16.156\u001b[0m | \u001b[33m\u001b[1mWARNING \u001b[0m | \u001b[36mfitter.fitter\u001b[0m:\u001b[36m_fit_single_distribution\u001b[0m:\u001b[36m347\u001b[0m - \u001b[33m\u001b[1mSKIPPED rv_histogram distribution (taking more than 120 seconds)\u001b[0m\n",
      "\u001b[32m2024-04-11 20:37:19.149\u001b[0m | \u001b[1mINFO    \u001b[0m | \u001b[36mfitter.fitter\u001b[0m:\u001b[36m_fit_single_distribution\u001b[0m:\u001b[36m337\u001b[0m - \u001b[1mFitted semicircular distribution with error=4954.0518)\u001b[0m\n",
      "\u001b[32m2024-04-11 20:37:23.210\u001b[0m | \u001b[1mINFO    \u001b[0m | \u001b[36mfitter.fitter\u001b[0m:\u001b[36m_fit_single_distribution\u001b[0m:\u001b[36m337\u001b[0m - \u001b[1mFitted skewcauchy distribution with error=260.219597)\u001b[0m\n",
      "\u001b[32m2024-04-11 20:37:23.608\u001b[0m | \u001b[1mINFO    \u001b[0m | \u001b[36mfitter.fitter\u001b[0m:\u001b[36m_fit_single_distribution\u001b[0m:\u001b[36m337\u001b[0m - \u001b[1mFitted powerlognorm distribution with error=284.371771)\u001b[0m\n",
      "\u001b[32m2024-04-11 20:37:25.814\u001b[0m | \u001b[33m\u001b[1mWARNING \u001b[0m | \u001b[36mfitter.fitter\u001b[0m:\u001b[36m_fit_single_distribution\u001b[0m:\u001b[36m347\u001b[0m - \u001b[33m\u001b[1mSKIPPED levy_stable distribution (taking more than 120 seconds)\u001b[0m\n",
      "\u001b[32m2024-04-11 20:37:31.465\u001b[0m | \u001b[1mINFO    \u001b[0m | \u001b[36mfitter.fitter\u001b[0m:\u001b[36m_fit_single_distribution\u001b[0m:\u001b[36m337\u001b[0m - \u001b[1mFitted skewnorm distribution with error=287.106629)\u001b[0m\n",
      "d:\\Cristian\\Profesional\\8vo Semestre\\proyectos-ingenieria\\.venv\\lib\\site-packages\\scipy\\integrate\\_quadpack_py.py:1272: IntegrationWarning: The maximum number of subdivisions (50) has been achieved.\n",
      "  If increasing the limit yields no improvement it is advised to analyze \n",
      "  the integrand in order to determine the difficulties.  If the position of a \n",
      "  local difficulty can be determined (singularity, discontinuity) one will \n",
      "  probably gain from splitting up the interval and calling the integrator \n",
      "  on the subranges.  Perhaps a special-purpose integrator should be used.\n",
      "  quad_r = quad(f, low, high, args=args, full_output=self.full_output,\n",
      "\u001b[32m2024-04-11 20:37:47.912\u001b[0m | \u001b[1mINFO    \u001b[0m | \u001b[36mfitter.fitter\u001b[0m:\u001b[36m_fit_single_distribution\u001b[0m:\u001b[36m337\u001b[0m - \u001b[1mFitted trapezoid distribution with error=3729.842222)\u001b[0m\n",
      "\u001b[32m2024-04-11 20:37:53.882\u001b[0m | \u001b[1mINFO    \u001b[0m | \u001b[36mfitter.fitter\u001b[0m:\u001b[36m_fit_single_distribution\u001b[0m:\u001b[36m337\u001b[0m - \u001b[1mFitted recipinvgauss distribution with error=317.024452)\u001b[0m\n",
      "d:\\Cristian\\Profesional\\8vo Semestre\\proyectos-ingenieria\\.venv\\lib\\site-packages\\scipy\\integrate\\_quadpack_py.py:1272: IntegrationWarning: The integral is probably divergent, or slowly convergent.\n",
      "  quad_r = quad(f, low, high, args=args, full_output=self.full_output,\n",
      "\u001b[32m2024-04-11 20:38:07.117\u001b[0m | \u001b[1mINFO    \u001b[0m | \u001b[36mfitter.fitter\u001b[0m:\u001b[36m_fit_single_distribution\u001b[0m:\u001b[36m337\u001b[0m - \u001b[1mFitted trapz distribution with error=3729.842222)\u001b[0m\n",
      "\u001b[32m2024-04-11 20:38:17.966\u001b[0m | \u001b[1mINFO    \u001b[0m | \u001b[36mfitter.fitter\u001b[0m:\u001b[36m_fit_single_distribution\u001b[0m:\u001b[36m337\u001b[0m - \u001b[1mFitted truncexpon distribution with error=3890.013427)\u001b[0m\n",
      "\u001b[32m2024-04-11 20:38:19.796\u001b[0m | \u001b[1mINFO    \u001b[0m | \u001b[36mfitter.fitter\u001b[0m:\u001b[36m_fit_single_distribution\u001b[0m:\u001b[36m337\u001b[0m - \u001b[1mFitted t distribution with error=105.458834)\u001b[0m\n",
      "\u001b[32m2024-04-11 20:38:22.413\u001b[0m | \u001b[1mINFO    \u001b[0m | \u001b[36mfitter.fitter\u001b[0m:\u001b[36m_fit_single_distribution\u001b[0m:\u001b[36m337\u001b[0m - \u001b[1mFitted truncnorm distribution with error=3657.548461)\u001b[0m\n",
      "\u001b[32m2024-04-11 20:38:27.513\u001b[0m | \u001b[1mINFO    \u001b[0m | \u001b[36mfitter.fitter\u001b[0m:\u001b[36m_fit_single_distribution\u001b[0m:\u001b[36m337\u001b[0m - \u001b[1mFitted triang distribution with error=2175.759017)\u001b[0m\n",
      "\u001b[32m2024-04-11 20:38:47.748\u001b[0m | \u001b[1mINFO    \u001b[0m | \u001b[36mfitter.fitter\u001b[0m:\u001b[36m_fit_single_distribution\u001b[0m:\u001b[36m337\u001b[0m - \u001b[1mFitted truncpareto distribution with error=3663.345458)\u001b[0m\n",
      "\u001b[32m2024-04-11 20:38:48.146\u001b[0m | \u001b[1mINFO    \u001b[0m | \u001b[36mfitter.fitter\u001b[0m:\u001b[36m_fit_single_distribution\u001b[0m:\u001b[36m337\u001b[0m - \u001b[1mFitted uniform distribution with error=3663.345455)\u001b[0m\n",
      "\u001b[32m2024-04-11 20:38:48.868\u001b[0m | \u001b[1mINFO    \u001b[0m | \u001b[36mfitter.fitter\u001b[0m:\u001b[36m_fit_single_distribution\u001b[0m:\u001b[36m337\u001b[0m - \u001b[1mFitted vonmises distribution with error=292.976425)\u001b[0m\n",
      "\u001b[32m2024-04-11 20:38:49.062\u001b[0m | \u001b[33m\u001b[1mWARNING \u001b[0m | \u001b[36mfitter.fitter\u001b[0m:\u001b[36m_fit_single_distribution\u001b[0m:\u001b[36m347\u001b[0m - \u001b[33m\u001b[1mSKIPPED vonmises_fisher distribution (taking more than 120 seconds)\u001b[0m\n",
      "\u001b[32m2024-04-11 20:38:52.658\u001b[0m | \u001b[1mINFO    \u001b[0m | \u001b[36mfitter.fitter\u001b[0m:\u001b[36m_fit_single_distribution\u001b[0m:\u001b[36m337\u001b[0m - \u001b[1mFitted tukeylambda distribution with error=103.066829)\u001b[0m\n",
      "\u001b[32m2024-04-11 20:38:53.823\u001b[0m | \u001b[1mINFO    \u001b[0m | \u001b[36mfitter.fitter\u001b[0m:\u001b[36m_fit_single_distribution\u001b[0m:\u001b[36m337\u001b[0m - \u001b[1mFitted wald distribution with error=3696.14348)\u001b[0m\n",
      "\u001b[32m2024-04-11 20:39:15.246\u001b[0m | \u001b[1mINFO    \u001b[0m | \u001b[36mfitter.fitter\u001b[0m:\u001b[36m_fit_single_distribution\u001b[0m:\u001b[36m337\u001b[0m - \u001b[1mFitted weibull_max distribution with error=559.187779)\u001b[0m\n",
      "\u001b[32m2024-04-11 20:39:23.701\u001b[0m | \u001b[33m\u001b[1mWARNING \u001b[0m | \u001b[36mfitter.fitter\u001b[0m:\u001b[36m_fit_single_distribution\u001b[0m:\u001b[36m347\u001b[0m - \u001b[33m\u001b[1mSKIPPED studentized_range distribution (taking more than 120 seconds)\u001b[0m\n",
      "\u001b[32m2024-04-11 20:39:24.381\u001b[0m | \u001b[1mINFO    \u001b[0m | \u001b[36mfitter.fitter\u001b[0m:\u001b[36m_fit_single_distribution\u001b[0m:\u001b[36m337\u001b[0m - \u001b[1mFitted vonmises_line distribution with error=4954.0518)\u001b[0m\n",
      "\u001b[32m2024-04-11 20:39:24.902\u001b[0m | \u001b[1mINFO    \u001b[0m | \u001b[36mfitter.fitter\u001b[0m:\u001b[36m_fit_single_distribution\u001b[0m:\u001b[36m337\u001b[0m - \u001b[1mFitted weibull_min distribution with error=422.711662)\u001b[0m\n",
      "\u001b[32m2024-04-11 20:39:27.875\u001b[0m | \u001b[1mINFO    \u001b[0m | \u001b[36mfitter.fitter\u001b[0m:\u001b[36m_fit_single_distribution\u001b[0m:\u001b[36m337\u001b[0m - \u001b[1mFitted truncweibull_min distribution with error=3231.23812)\u001b[0m\n",
      "\u001b[32m2024-04-11 20:39:39.566\u001b[0m | \u001b[1mINFO    \u001b[0m | \u001b[36mfitter.fitter\u001b[0m:\u001b[36m_fit_single_distribution\u001b[0m:\u001b[36m337\u001b[0m - \u001b[1mFitted wrapcauchy distribution with error=6138.92645)\u001b[0m\n"
     ]
    },
    {
     "data": {
      "text/html": [
       "<div>\n",
       "<style scoped>\n",
       "    .dataframe tbody tr th:only-of-type {\n",
       "        vertical-align: middle;\n",
       "    }\n",
       "\n",
       "    .dataframe tbody tr th {\n",
       "        vertical-align: top;\n",
       "    }\n",
       "\n",
       "    .dataframe thead th {\n",
       "        text-align: right;\n",
       "    }\n",
       "</style>\n",
       "<table border=\"1\" class=\"dataframe\">\n",
       "  <thead>\n",
       "    <tr style=\"text-align: right;\">\n",
       "      <th></th>\n",
       "      <th>sumsquare_error</th>\n",
       "      <th>aic</th>\n",
       "      <th>bic</th>\n",
       "      <th>kl_div</th>\n",
       "      <th>ks_statistic</th>\n",
       "      <th>ks_pvalue</th>\n",
       "    </tr>\n",
       "  </thead>\n",
       "  <tbody>\n",
       "    <tr>\n",
       "      <th>norminvgauss</th>\n",
       "      <td>98.864390</td>\n",
       "      <td>148.431616</td>\n",
       "      <td>167.421962</td>\n",
       "      <td>inf</td>\n",
       "      <td>0.012738</td>\n",
       "      <td>0.998854</td>\n",
       "    </tr>\n",
       "    <tr>\n",
       "      <th>johnsonsu</th>\n",
       "      <td>101.085611</td>\n",
       "      <td>143.029474</td>\n",
       "      <td>162.019820</td>\n",
       "      <td>inf</td>\n",
       "      <td>0.013820</td>\n",
       "      <td>0.996172</td>\n",
       "    </tr>\n",
       "    <tr>\n",
       "      <th>hypsecant</th>\n",
       "      <td>101.339564</td>\n",
       "      <td>189.434863</td>\n",
       "      <td>198.930036</td>\n",
       "      <td>inf</td>\n",
       "      <td>0.015598</td>\n",
       "      <td>0.983688</td>\n",
       "    </tr>\n",
       "    <tr>\n",
       "      <th>genhyperbolic</th>\n",
       "      <td>101.545512</td>\n",
       "      <td>144.039473</td>\n",
       "      <td>167.777406</td>\n",
       "      <td>inf</td>\n",
       "      <td>0.013758</td>\n",
       "      <td>0.996400</td>\n",
       "    </tr>\n",
       "    <tr>\n",
       "      <th>tukeylambda</th>\n",
       "      <td>103.066829</td>\n",
       "      <td>143.216270</td>\n",
       "      <td>157.459030</td>\n",
       "      <td>inf</td>\n",
       "      <td>0.019582</td>\n",
       "      <td>0.892992</td>\n",
       "    </tr>\n",
       "  </tbody>\n",
       "</table>\n",
       "</div>"
      ],
      "text/plain": [
       "               sumsquare_error         aic         bic  kl_div  ks_statistic  \\\n",
       "norminvgauss         98.864390  148.431616  167.421962     inf      0.012738   \n",
       "johnsonsu           101.085611  143.029474  162.019820     inf      0.013820   \n",
       "hypsecant           101.339564  189.434863  198.930036     inf      0.015598   \n",
       "genhyperbolic       101.545512  144.039473  167.777406     inf      0.013758   \n",
       "tukeylambda         103.066829  143.216270  157.459030     inf      0.019582   \n",
       "\n",
       "               ks_pvalue  \n",
       "norminvgauss    0.998854  \n",
       "johnsonsu       0.996172  \n",
       "hypsecant       0.983688  \n",
       "genhyperbolic   0.996400  \n",
       "tukeylambda     0.892992  "
      ]
     },
     "execution_count": 274,
     "metadata": {},
     "output_type": "execute_result"
    },
    {
     "data": {
      "image/png": "[encoded data removed]",
      "text/plain": [
       "<Figure size 640x480 with 1 Axes>"
      ]
     },
     "metadata": {},
     "output_type": "display_data"
    }
   ],
   "source": [
    "f = Fitter(training, timeout = 120)\n",
    "f.fit()\n",
    "f.summary()"
   ]
  },
  {
   "cell_type": "code",
   "execution_count": 295,
   "metadata": {},
   "outputs": [
    {
     "data": {
      "text/plain": [
       "{'uniform': {'loc': -0.15139791287665294, 'scale': 0.2783468286451102}}"
      ]
     },
     "execution_count": 295,
     "metadata": {},
     "output_type": "execute_result"
    }
   ],
   "source": [
    "# El método get_best se utiliza para seleccionar el mejor modelo basado en un criterio específico. \n",
    "# En este caso, el criterio es el \"bic\", que se refiere al Criterio de Información Bayesiano.\n",
    "f.get_best(method = \"bic\")"
   ]
  },
  {
   "cell_type": "code",
   "execution_count": 301,
   "metadata": {},
   "outputs": [
    {
     "data": {
      "text/plain": [
       "{'norminvgauss': {'a': 0.9753668732438454,\n",
       "  'b': -0.026601118197388612,\n",
       "  'loc': 0.0008819343939723866,\n",
       "  'scale': 0.02405741263947861}}"
      ]
     },
     "execution_count": 301,
     "metadata": {},
     "output_type": "execute_result"
    }
   ],
   "source": [
    "# El método get_best se utiliza para seleccionar el mejor modelo basado en un criterio específico. \n",
    "# En este caso, el criterio es el \"sumsquare_error\", que se refiere a la suma de los errores al cuadrado.\n",
    "f.get_best(method = \"sumsquare_error\")"
   ]
  },
  {
   "cell_type": "code",
   "execution_count": 311,
   "metadata": {},
   "outputs": [
    {
     "data": {
      "text/plain": [
       "{'uniform': {'loc': -0.15139791287665294, 'scale': 0.2783468286451102}}"
      ]
     },
     "execution_count": 311,
     "metadata": {},
     "output_type": "execute_result"
    }
   ],
   "source": [
    "# El método get_best se utiliza para seleccionar el mejor modelo basado en un criterio específico. \n",
    "# En este caso, el criterio es \n",
    "f.get_best(method = \"aic\")"
   ]
  },
  {
   "cell_type": "markdown",
   "metadata": {},
   "source": [
    "Usando los modelos que fueron seleccionados como mejores (según su respectivo criterio), se procedió a realizar una predicción y con ello evaluar al modelo"
   ]
  },
  {
   "cell_type": "markdown",
   "metadata": {},
   "source": [
    "### Norminvgauss distribution."
   ]
  },
  {
   "cell_type": "code",
   "execution_count": 302,
   "metadata": {},
   "outputs": [],
   "source": [
    "def GBMsimulatorUniVar(So, mu, sigma, T, N):\n",
    "    \"\"\" This methods uses random numbers to repeatedly sample future results – in our case, we sample \n",
    "    random numbers from a Uniform Distribution, then multiply them to our volatility to obtain our diffusion term.\"\"\"\n",
    "    dim = np.size(So)\n",
    "    S = np.zeros([T + 1, int(N)])\n",
    "    S[0, :] = So\n",
    "    for t in range(1, int(T) + 1):\n",
    "        for i in range(0, int(N)):    \n",
    "            drift = (mu - 0.5 * sigma**2)\n",
    "            Z = scipy.stats.norminvgauss.rvs(a=0.9753668732438454, b=-0.026601118197388612)\n",
    "            # Z = scipy.stats.laplace.rvs()\n",
    "            diffusion = sigma*Z\n",
    "            S[t][i] = S[t - 1][i]*np.exp(drift + diffusion)\n",
    "    return S[1:]\n"
   ]
  },
  {
   "cell_type": "code",
   "execution_count": 305,
   "metadata": {},
   "outputs": [],
   "source": [
    "prices = GBMsimulatorUniVar(So = df2[\"Adj Close\"].iloc[len(training)], mu = training.mean(), sigma = training.std(), T = len(test), N = 1000)\n",
    "newpreds = pd.DataFrame(prices).mean(axis = 1)"
   ]
  },
  {
   "cell_type": "code",
   "execution_count": 306,
   "metadata": {},
   "outputs": [
    {
     "data": {
      "text/plain": [
       "0.30450298138746995"
      ]
     },
     "execution_count": 306,
     "metadata": {},
     "output_type": "execute_result"
    }
   ],
   "source": [
    "mape(newpreds, test.dropna())"
   ]
  },
  {
   "cell_type": "markdown",
   "metadata": {},
   "source": [
    "Taking the mean average prediction error (MAPE), we find around 30.45% forecasting error."
   ]
  },
  {
   "cell_type": "code",
   "execution_count": 307,
   "metadata": {},
   "outputs": [
    {
     "data": {
      "image/png": "[encoded data removed]",
      "text/plain": [
       "<Figure size 640x480 with 1 Axes>"
      ]
     },
     "metadata": {},
     "output_type": "display_data"
    }
   ],
   "source": [
    "axis = np.arange(len(train) + len(test))\n",
    "plt.plot(axis[:len(train)], train, c = \"blue\", label = \"Train Data\")\n",
    "plt.plot(axis[len(train):], test, c = \"orange\", label = \"Test Data\")\n",
    "plt.plot(axis[len(train):], np.array(newpreds), c = \"green\", label = \"Predictions\")\n",
    "plt.legend()\n",
    "plt.show();"
   ]
  },
  {
   "cell_type": "markdown",
   "metadata": {},
   "source": [
    "### Uniform distribution."
   ]
  },
  {
   "cell_type": "code",
   "execution_count": 308,
   "metadata": {},
   "outputs": [],
   "source": [
    "def GBMsimulatorUniVar2(So, mu, sigma, T, N):\n",
    "    \"\"\" This methods uses random numbers to repeatedly sample future results – in our case, we sample \n",
    "    random numbers from a Uniform Distribution, then multiply them to our volatility to obtain our diffusion term.\"\"\"\n",
    "    dim = np.size(So)\n",
    "    S = np.zeros([T + 1, int(N)])\n",
    "    S[0, :] = So\n",
    "    for t in range(1, int(T) + 1):\n",
    "        for i in range(0, int(N)):    \n",
    "            drift = (mu - 0.5 * sigma**2)\n",
    "            Z = scipy.stats.uniform.rvs()\n",
    "            diffusion = sigma*Z\n",
    "            S[t][i] = S[t - 1][i]*np.exp(drift + diffusion)\n",
    "    return S[1:]"
   ]
  },
  {
   "cell_type": "code",
   "execution_count": 309,
   "metadata": {},
   "outputs": [
    {
     "data": {
      "text/plain": [
       "0.588869387904373"
      ]
     },
     "execution_count": 309,
     "metadata": {},
     "output_type": "execute_result"
    }
   ],
   "source": [
    "prices = GBMsimulatorUniVar2(So = df2[\"Adj Close\"].iloc[len(training)], mu = training.mean(), sigma = training.std(), T = len(test), N = 1000)\n",
    "newpreds = pd.DataFrame(prices).mean(axis = 1)\n",
    "mape(newpreds, test.dropna())"
   ]
  },
  {
   "cell_type": "markdown",
   "metadata": {},
   "source": [
    "Taking the mean average prediction error (MAPE), we find around 58.88% forecasting error."
   ]
  },
  {
   "cell_type": "code",
   "execution_count": 310,
   "metadata": {},
   "outputs": [
    {
     "data": {
      "image/png": "[encoded data removed]",
      "text/plain": [
       "<Figure size 640x480 with 1 Axes>"
      ]
     },
     "metadata": {},
     "output_type": "display_data"
    }
   ],
   "source": [
    "# Agregar una legenda a cada gráfico.\n",
    "axis = np.arange(len(train) + len(test))\n",
    "plt.plot(axis[:len(train)], train, c = \"blue\", label = \"Train Data\")\n",
    "plt.plot(axis[len(train):], test, c = \"orange\", label = \"Test Data\")\n",
    "plt.plot(axis[len(train):], np.array(newpreds), c = \"green\", label = \"Predictions\")\n",
    "plt.legend()\n",
    "plt.show();"
   ]
  },
  {
   "cell_type": "markdown",
   "metadata": {},
   "source": [
    "## 3. Mejora del modelo"
   ]
  },
  {
   "cell_type": "markdown",
   "metadata": {},
   "source": []
  }
 ],
 "metadata": {
  "kernelspec": {
   "display_name": ".venv",
   "language": "python",
   "name": "python3"
  },
  "language_info": {
   "codemirror_mode": {
    "name": "ipython",
    "version": 3
   },
   "file_extension": ".py",
   "mimetype": "text/x-python",
   "name": "python",
   "nbconvert_exporter": "python",
   "pygments_lexer": "ipython3",
   "version": "3.10.11"
  }
 },
 "nbformat": 4,
 "nbformat_minor": 2
}
